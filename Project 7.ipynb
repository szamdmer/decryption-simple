{
 "cells": [
  {
   "cell_type": "markdown",
   "id": "66837abb",
   "metadata": {},
   "source": [
    "# Project 6: Message Decryption\n",
    "## MTH 337\n",
    "### Samuel Zamdmer"
   ]
  },
  {
   "cell_type": "markdown",
   "id": "a7668b9d",
   "metadata": {},
   "source": [
    "This file includes the methods to encrypt and decrypt messages with an example of text12.txt being decrypted"
   ]
  },
  {
   "cell_type": "code",
   "execution_count": 4,
   "id": "196c8a85",
   "metadata": {},
   "outputs": [],
   "source": [
    "import numpy as np"
   ]
  },
  {
   "cell_type": "code",
   "execution_count": 1,
   "id": "afdc14f4",
   "metadata": {},
   "outputs": [],
   "source": [
    "def encrypt(string,c):\n",
    "    b = False\n",
    "    while b == False:\n",
    "        if len(string)%c == 0:\n",
    "            b = True\n",
    "        else:\n",
    "            string += '&'\n",
    "    row = len(string)//c\n",
    "    col = c\n",
    "    array = np.empty((row,col),dtype=str)\n",
    "    #for i,j in [(i,j) for i in range(row) for j in range(col)]:\n",
    "    count = 0\n",
    "    for i in range(row):\n",
    "        for j in range(col):\n",
    "            array[i,j] = string[count]\n",
    "            count += 1\n",
    "    final = ''\n",
    "    for j in range(col):\n",
    "        for i in range(row):\n",
    "            if array[i,j] == '&':\n",
    "                pass\n",
    "            else:\n",
    "                final += array[i,j]\n",
    "    return final"
   ]
  },
  {
   "cell_type": "code",
   "execution_count": 2,
   "id": "17f31e3b",
   "metadata": {},
   "outputs": [],
   "source": [
    "def decrypt(txt,dictionary,interval):\n",
    "    g = open(dictionary) #opens the dictionary txt file\n",
    "    text = g.read() #assigns text to the string of all the words in g\n",
    "    dictionary = text.split() #splits text at each newline to make a list of words\n",
    "    answer = '' #assigns an empty space to answer\n",
    "    bestratio = 0 #assigns bestratio to 0\n",
    "    encryptionvalue = 0 #assigns encryptionvalue to 0\n",
    "    for c in range(interval[0],interval[1]+1): #loop through the desired interval from input \"interval\"\n",
    "        f = open(txt,'r',encoding = \"utf-8\") #opens the encrypted message as f\n",
    "        encrypted_message = f.read() #assigns encrypted_message to the file\n",
    "        value = 0 #number of &'s\n",
    "        b = False #makes b false\n",
    "        while b == False: #while b is false\n",
    "            if len(encrypted_message)%c == 0: #if the remainder when dividing the length is 0, makes b true\n",
    "                b = True \n",
    "            else: #if b is still false\n",
    "                value += 1 #increments value by 1\n",
    "                encrypted_message += '&' #adds a \"&\" to the end of the string\n",
    "        length = len(encrypted_message) #assigns lenth to the length of the string encrypted_message\n",
    "        v = length//c #assigns v to lenth when integer divided by current c value\n",
    "        f = open(txt,'r',encoding = \"utf-8\") #opens the txt file again as f\n",
    "        encrypted_message = f.read() #overrides encrypted_message to the original message\n",
    "        b1 = 0 #assigns b1 to 0\n",
    "        while b1 < value: #while b1 is less than the value\n",
    "            if b1 == 0: #if b1 is 0\n",
    "                encrypted_message += '&' #adds a '&' to the end of the message \n",
    "            else: #if not\n",
    "                encrypted_message = encrypted_message[:length-1] + '&' + encrypted_message[length-1:] #adds a '&' back v spaces\n",
    "            length -= v #subtracts v from the length\n",
    "            b1 += 1 #increments b1 by 1\n",
    "        col = len(encrypted_message)//c #assigns col to length of message //c\n",
    "        row = c #assigns row to c value\n",
    "        arr = np.empty((row,col),dtype=str) #makes an empty row by col array with string type\n",
    "        count = 0 #makes count = 0\n",
    "        for i in range(row): #loop through rows\n",
    "            for j in range(col): #loop through columns\n",
    "                arr[i,j] = encrypted_message[count] #places the characters of the message into the array\n",
    "                count += 1\n",
    "        newarr = np.transpose(arr) #transposes the array and assigns it to newarr\n",
    "        row,col = np.shape(newarr) #reassigns the row and col values\n",
    "        final = '' #empty final string\n",
    "        for i in range(row): #loop through rows\n",
    "            for j in range(col): #loop through cols\n",
    "                if newarr[i,j] == '&': #if the current character is a '&'\n",
    "                    pass #pass back to the loop\n",
    "                else: #if not\n",
    "                    final += newarr[i,j] #add the current character to the new string\n",
    "        words = final.split() #splits the string final into a list of words\n",
    "        bottom = len(words) # assigns bottom to length of the array\n",
    "        top = 0 #assigns top to 0\n",
    "        for word in words: #loop through the words\n",
    "            if word.lower() in dictionary: #if the word in lower case is in the dictionary\n",
    "                top +=1 #increment top by 1\n",
    "        temp = top/bottom #assigns temp to the ratio of top/bottom\n",
    "        if temp > bestratio: #if the temp ratio is > than bestratio\n",
    "            bestratio = temp #overwrites bestratio to temp\n",
    "            encryptionvalue = c #overwrites encryptionvalue to c\n",
    "            answer = final #replaces answer with final\n",
    "    print('The c value used for encryption was {}\\n'.format(encryptionvalue))\n",
    "    print(answer)\n",
    "    return None"
   ]
  },
  {
   "cell_type": "code",
   "execution_count": 5,
   "id": "760bafe2",
   "metadata": {},
   "outputs": [
    {
     "name": "stdout",
     "output_type": "stream",
     "text": [
      "The c value used for encryption was 27\n",
      "\n",
      "When this adventure was at an end, I came back out of my house, having\n",
      "occasion for fresh air.  The emperor was already descended from the\n",
      "tower, and advancing on horseback towards me, which had like to have cost\n",
      "him dear; for the beast, though very well trained, yet wholly unused to\n",
      "such a sight, which appeared as if a mountain moved before him, reared up\n",
      "on its hinder feet: but that prince, who is an excellent horseman, kept\n",
      "his seat, till his attendants ran in, and held the bridle, while his\n",
      "majesty had time to dismount.  When he alighted, he surveyed me round\n",
      "with great admiration; but kept beyond the length of my chain.  He\n",
      "ordered his cooks and butlers, who were already prepared, to give me\n",
      "victuals and drink, which they pushed forward in a sort of vehicles upon\n",
      "wheels, till I could reach them.  I took these vehicles and soon emptied\n",
      "them all; twenty of them were filled with meat, and ten with liquor; each\n",
      "of the former afforded me two or three good mouthfuls; and I emptied the\n",
      "liquor of ten vessels, which was contained in earthen vials, into one\n",
      "vehicle, drinking it off at a draught; and so I did with the rest.  The\n",
      "empress, and young princes of the blood of both sexes, attended by many\n",
      "ladies, sat at some distance in their chairs; but upon the accident that\n",
      "happened to the emperor’s horse, they alighted, and came near his person,\n",
      "which I am now going to describe.  He is taller by almost the breadth of\n",
      "my nail, than any of his court; which alone is enough to strike an awe\n",
      "into the beholders.  His features are strong and masculine, with an\n",
      "Austrian lip and arched nose, his complexion olive, his countenance\n",
      "erect, his body and limbs well proportioned, all his motions graceful,\n",
      "and his deportment majestic.  He was then past his prime, being\n",
      "twenty-eight years and three quarters old, of which he had reigned about\n",
      "seven in great felicity, and generally victorious.  For the better\n",
      "convenience of beholding him, I lay on my side, so that my face was\n",
      "parallel to his, and he stood but three yards off: however, I have had\n",
      "him since many times in my hand, and therefore cannot be deceived in the\n",
      "description.  His dress was very plain and simple, and the fashion of it\n",
      "between the Asiatic and the European; but he had on his head a light\n",
      "helmet of gold, adorned with jewels, and a plume on the crest.  He held\n",
      "his sword drawn in his hand to defend himself, if I should happen to\n",
      "break loose; it was almost three inches long; the hilt and scabbard were\n",
      "gold enriched with diamonds.\n"
     ]
    }
   ],
   "source": [
    "decrypt('text12.txt','dictionary.txt',[25,100])"
   ]
  },
  {
   "cell_type": "code",
   "execution_count": null,
   "id": "7e547229",
   "metadata": {},
   "outputs": [],
   "source": []
  }
 ],
 "metadata": {
  "kernelspec": {
   "display_name": "Python 3 (ipykernel)",
   "language": "python",
   "name": "python3"
  },
  "language_info": {
   "codemirror_mode": {
    "name": "ipython",
    "version": 3
   },
   "file_extension": ".py",
   "mimetype": "text/x-python",
   "name": "python",
   "nbconvert_exporter": "python",
   "pygments_lexer": "ipython3",
   "version": "3.9.12"
  }
 },
 "nbformat": 4,
 "nbformat_minor": 5
}
